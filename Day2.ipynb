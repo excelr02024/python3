{
 "cells": [
  {
   "cell_type": "code",
   "execution_count": null,
   "id": "336638a7-4286-4cc9-bb53-6a2d901a80a0",
   "metadata": {},
   "outputs": [],
   "source": [
    "list tuple set dictionary"
   ]
  },
  {
   "cell_type": "code",
   "execution_count": 19,
   "id": "35fd91d9-ea26-42ae-9e95-77f762fcd70c",
   "metadata": {},
   "outputs": [],
   "source": [
    "b= 56"
   ]
  },
  {
   "cell_type": "code",
   "execution_count": 20,
   "id": "cf206efa-6b3f-484e-8bf3-153d743d67fe",
   "metadata": {},
   "outputs": [
    {
     "data": {
      "text/plain": [
       "56"
      ]
     },
     "execution_count": 20,
     "metadata": {},
     "output_type": "execute_result"
    }
   ],
   "source": [
    "b"
   ]
  },
  {
   "cell_type": "code",
   "execution_count": null,
   "id": "cd39d061-9abe-4dcd-be86-e28ac601ddde",
   "metadata": {},
   "outputs": [],
   "source": []
  },
  {
   "cell_type": "code",
   "execution_count": 21,
   "id": "186cc0a8-a347-4fc0-a01b-a4a7748ea35d",
   "metadata": {},
   "outputs": [
    {
     "data": {
      "text/plain": [
       "[23, 34, 45, 56, 67]"
      ]
     },
     "execution_count": 21,
     "metadata": {},
     "output_type": "execute_result"
    }
   ],
   "source": [
    "a=[ 23,34,45,56,67 ]\n",
    "a"
   ]
  },
  {
   "cell_type": "code",
   "execution_count": 23,
   "id": "17d69700-f576-4559-8455-2e824b87e203",
   "metadata": {},
   "outputs": [
    {
     "data": {
      "text/plain": [
       "list"
      ]
     },
     "execution_count": 23,
     "metadata": {},
     "output_type": "execute_result"
    }
   ],
   "source": [
    "type(a)"
   ]
  },
  {
   "cell_type": "code",
   "execution_count": 25,
   "id": "a9faaf95-2cb6-4e47-9e7d-549e576196a6",
   "metadata": {},
   "outputs": [
    {
     "data": {
      "text/plain": [
       "[203, 'Hyderabad', 45, True, 'Mumbai', 78, 175, 34.9]"
      ]
     },
     "execution_count": 25,
     "metadata": {},
     "output_type": "execute_result"
    }
   ],
   "source": [
    "m=[203,'Hyderabad',45,True,'Mumbai',78,175,34.90]\n",
    "m"
   ]
  },
  {
   "cell_type": "code",
   "execution_count": 29,
   "id": "c7e9c377-7f81-4157-80cc-562ec88a1238",
   "metadata": {},
   "outputs": [
    {
     "data": {
      "text/plain": [
       "45"
      ]
     },
     "execution_count": 29,
     "metadata": {},
     "output_type": "execute_result"
    }
   ],
   "source": [
    "m[-6]"
   ]
  },
  {
   "cell_type": "code",
   "execution_count": 39,
   "id": "d0966fe1-3f74-46f1-ba34-08eadd048569",
   "metadata": {},
   "outputs": [
    {
     "data": {
      "text/plain": [
       "45"
      ]
     },
     "execution_count": 39,
     "metadata": {},
     "output_type": "execute_result"
    }
   ],
   "source": [
    "m[2]"
   ]
  },
  {
   "cell_type": "code",
   "execution_count": 40,
   "id": "f4ab7870-b7d1-497e-93f3-1b3bf3990bff",
   "metadata": {},
   "outputs": [
    {
     "data": {
      "text/plain": [
       "'Mumbai'"
      ]
     },
     "execution_count": 40,
     "metadata": {},
     "output_type": "execute_result"
    }
   ],
   "source": [
    "m[4]"
   ]
  },
  {
   "cell_type": "code",
   "execution_count": 41,
   "id": "89f1b3eb-2d0f-4450-bf04-3cbc24af0425",
   "metadata": {},
   "outputs": [
    {
     "data": {
      "text/plain": [
       "'Mumbai'"
      ]
     },
     "execution_count": 41,
     "metadata": {},
     "output_type": "execute_result"
    }
   ],
   "source": [
    "m[-4]"
   ]
  },
  {
   "cell_type": "code",
   "execution_count": 42,
   "id": "bec17ae2-2366-495c-b8b6-231f02dfec97",
   "metadata": {},
   "outputs": [
    {
     "data": {
      "text/plain": [
       "'Hyderabad'"
      ]
     },
     "execution_count": 42,
     "metadata": {},
     "output_type": "execute_result"
    }
   ],
   "source": [
    "m[1]"
   ]
  },
  {
   "cell_type": "code",
   "execution_count": 43,
   "id": "87c59244-164c-4ebd-9f8a-76778a1e0ea5",
   "metadata": {},
   "outputs": [
    {
     "data": {
      "text/plain": [
       "'Hyderabad'"
      ]
     },
     "execution_count": 43,
     "metadata": {},
     "output_type": "execute_result"
    }
   ],
   "source": [
    "m[-7]"
   ]
  },
  {
   "cell_type": "code",
   "execution_count": 33,
   "id": "a4cb72da-c1e6-47a3-a759-8e4eb4b6927b",
   "metadata": {},
   "outputs": [
    {
     "data": {
      "text/plain": [
       "[45, True, 'Mumbai', 78, 175]"
      ]
     },
     "execution_count": 33,
     "metadata": {},
     "output_type": "execute_result"
    }
   ],
   "source": [
    "m[2:7]"
   ]
  },
  {
   "cell_type": "code",
   "execution_count": 35,
   "id": "61f0aeef-68f5-487e-bc79-af5a2ce8b851",
   "metadata": {},
   "outputs": [
    {
     "data": {
      "text/plain": [
       "[45, True, 'Mumbai', 78, 175]"
      ]
     },
     "execution_count": 35,
     "metadata": {},
     "output_type": "execute_result"
    }
   ],
   "source": [
    "m[-6:-1]"
   ]
  },
  {
   "cell_type": "code",
   "execution_count": 37,
   "id": "84c7ea8e-1f58-4629-8687-ea3e7007093a",
   "metadata": {},
   "outputs": [
    {
     "data": {
      "text/plain": [
       "[45, True, 'Mumbai', 78, 175]"
      ]
     },
     "execution_count": 37,
     "metadata": {},
     "output_type": "execute_result"
    }
   ],
   "source": [
    "m[-6:7]"
   ]
  },
  {
   "cell_type": "code",
   "execution_count": 38,
   "id": "6df54e3b-9b06-4077-bfcd-b4542447a757",
   "metadata": {},
   "outputs": [
    {
     "data": {
      "text/plain": [
       "[45, True, 'Mumbai', 78, 175]"
      ]
     },
     "execution_count": 38,
     "metadata": {},
     "output_type": "execute_result"
    }
   ],
   "source": [
    "m[2:-1]"
   ]
  },
  {
   "cell_type": "code",
   "execution_count": 99,
   "id": "4602cd09-adce-4ded-b018-30d218b6b7b7",
   "metadata": {},
   "outputs": [],
   "source": [
    "# listname [start : end :step ]"
   ]
  },
  {
   "cell_type": "code",
   "execution_count": 44,
   "id": "ba4620b1-2ab3-488c-8232-e0b3e0801927",
   "metadata": {},
   "outputs": [
    {
     "data": {
      "text/plain": [
       "[45, True, 'Mumbai', 78, 175]"
      ]
     },
     "execution_count": 44,
     "metadata": {},
     "output_type": "execute_result"
    }
   ],
   "source": [
    "m[2:7]"
   ]
  },
  {
   "cell_type": "code",
   "execution_count": 46,
   "id": "a1270052-449e-4298-affa-6b9b33c4ea80",
   "metadata": {},
   "outputs": [
    {
     "data": {
      "text/plain": [
       "[203, 'Hyderabad', 45, True, 'Mumbai', 78, 175, 34.9]"
      ]
     },
     "execution_count": 46,
     "metadata": {},
     "output_type": "execute_result"
    }
   ],
   "source": [
    "m"
   ]
  },
  {
   "cell_type": "code",
   "execution_count": 48,
   "id": "210a7a84-bb2b-4a9f-b382-47d5a8b4d2c4",
   "metadata": {},
   "outputs": [
    {
     "data": {
      "text/plain": [
       "[203, 'Hyderabad', 45, True, 'Mumbai', 78]"
      ]
     },
     "execution_count": 48,
     "metadata": {},
     "output_type": "execute_result"
    }
   ],
   "source": [
    "m[ 0:6:1]"
   ]
  },
  {
   "cell_type": "code",
   "execution_count": 50,
   "id": "bcef7c05-3542-4e9f-b426-6823a69e336c",
   "metadata": {},
   "outputs": [
    {
     "data": {
      "text/plain": [
       "[203, 45, 'Mumbai']"
      ]
     },
     "execution_count": 50,
     "metadata": {},
     "output_type": "execute_result"
    }
   ],
   "source": [
    "m[0:6:2]"
   ]
  },
  {
   "cell_type": "code",
   "execution_count": 49,
   "id": "1e0c81ed-b65f-4966-83cf-de05712056dd",
   "metadata": {},
   "outputs": [
    {
     "data": {
      "text/plain": [
       "[203, 'Hyderabad', 45, True, 'Mumbai', 78]"
      ]
     },
     "execution_count": 49,
     "metadata": {},
     "output_type": "execute_result"
    }
   ],
   "source": [
    "m[0:6]"
   ]
  },
  {
   "cell_type": "code",
   "execution_count": 53,
   "id": "7bbf695d-7440-4000-b4b6-516d3f7ca450",
   "metadata": {},
   "outputs": [
    {
     "data": {
      "text/plain": [
       "[True, 'Mumbai', 78, 175, 34.9]"
      ]
     },
     "execution_count": 53,
     "metadata": {},
     "output_type": "execute_result"
    }
   ],
   "source": [
    "m[3:8:1]"
   ]
  },
  {
   "cell_type": "code",
   "execution_count": 52,
   "id": "3c893b20-d620-42e2-8c4d-f682dc321c53",
   "metadata": {},
   "outputs": [
    {
     "data": {
      "text/plain": [
       "[True, 78, 34.9]"
      ]
     },
     "execution_count": 52,
     "metadata": {},
     "output_type": "execute_result"
    }
   ],
   "source": [
    "m[3:8:2]"
   ]
  },
  {
   "cell_type": "code",
   "execution_count": 87,
   "id": "bdc0b1c8-7a6b-40ed-a803-d4baf52a5d35",
   "metadata": {},
   "outputs": [
    {
     "data": {
      "text/plain": [
       "[True, False, 78, 175, 34.9]"
      ]
     },
     "execution_count": 87,
     "metadata": {},
     "output_type": "execute_result"
    }
   ],
   "source": [
    "m[3:]"
   ]
  },
  {
   "cell_type": "code",
   "execution_count": 57,
   "id": "e4984bfd-7d3a-4722-9971-4ace821fb7f3",
   "metadata": {},
   "outputs": [
    {
     "data": {
      "text/plain": [
       "[203, 'Hyderabad', 45, True, 'Mumbai', 78, 175, 34.9]"
      ]
     },
     "execution_count": 57,
     "metadata": {},
     "output_type": "execute_result"
    }
   ],
   "source": [
    "m"
   ]
  },
  {
   "cell_type": "code",
   "execution_count": 61,
   "id": "51946055-ec2c-4de9-9628-12700ab2f772",
   "metadata": {},
   "outputs": [
    {
     "data": {
      "text/plain": [
       "[175, 78, 'Mumbai', True]"
      ]
     },
     "execution_count": 61,
     "metadata": {},
     "output_type": "execute_result"
    }
   ],
   "source": [
    "m[-2:2:-1]"
   ]
  },
  {
   "cell_type": "code",
   "execution_count": 59,
   "id": "091b2b2d-d277-4e5a-94cc-84da1646f6f2",
   "metadata": {},
   "outputs": [
    {
     "data": {
      "text/plain": [
       "['Hyderabad', 45, True, 'Mumbai', 78, 175]"
      ]
     },
     "execution_count": 59,
     "metadata": {},
     "output_type": "execute_result"
    }
   ],
   "source": [
    "m[-7:7]"
   ]
  },
  {
   "cell_type": "code",
   "execution_count": 60,
   "id": "0121ec57-20c1-453a-af4d-77351b21ce95",
   "metadata": {},
   "outputs": [
    {
     "data": {
      "text/plain": [
       "[203, 'Hyderabad', 45, True, 'Mumbai', 78, 175, 34.9]"
      ]
     },
     "execution_count": 60,
     "metadata": {},
     "output_type": "execute_result"
    }
   ],
   "source": [
    "m"
   ]
  },
  {
   "cell_type": "code",
   "execution_count": 94,
   "id": "7caee0f7-4e3a-425d-b902-e20de6da2697",
   "metadata": {},
   "outputs": [
    {
     "data": {
      "text/plain": [
       "['Hyderabad', False]"
      ]
     },
     "execution_count": 94,
     "metadata": {},
     "output_type": "execute_result"
    }
   ],
   "source": [
    "c[1:7:3]"
   ]
  },
  {
   "cell_type": "code",
   "execution_count": 22,
   "id": "70de2f0c-e8f7-4da4-8931-32a744b696f8",
   "metadata": {},
   "outputs": [
    {
     "data": {
      "text/plain": [
       "['Hyderabad', 45, True, False]"
      ]
     },
     "execution_count": 22,
     "metadata": {},
     "output_type": "execute_result"
    }
   ],
   "source": [
    "c[1:5]"
   ]
  },
  {
   "cell_type": "code",
   "execution_count": 24,
   "id": "195fbdcd-7807-461e-8d15-c9acc45f9083",
   "metadata": {},
   "outputs": [
    {
     "data": {
      "text/plain": [
       "[203, 'Hyderabad', 45, True, False, 78, 175, 34.9]"
      ]
     },
     "execution_count": 24,
     "metadata": {},
     "output_type": "execute_result"
    }
   ],
   "source": [
    "c"
   ]
  },
  {
   "cell_type": "code",
   "execution_count": 57,
   "id": "9dd51b23-5815-4431-975b-c7c14ebad462",
   "metadata": {},
   "outputs": [],
   "source": [
    "c.extend([45,78,90,34])"
   ]
  },
  {
   "cell_type": "code",
   "execution_count": 58,
   "id": "fe56b819-8b0f-4a1c-b698-d7412f61dabc",
   "metadata": {},
   "outputs": [
    {
     "data": {
      "text/plain": [
       "[203, 'Hyderabad', 45, True, False, 78, 175, 34.9, 45, 78, 90, 34]"
      ]
     },
     "execution_count": 58,
     "metadata": {},
     "output_type": "execute_result"
    }
   ],
   "source": [
    "c"
   ]
  },
  {
   "cell_type": "code",
   "execution_count": 33,
   "id": "cbfb3290-4f52-4436-b52d-c79c7bef8e44",
   "metadata": {},
   "outputs": [
    {
     "data": {
      "text/plain": [
       "[175, 78, False, True]"
      ]
     },
     "execution_count": 33,
     "metadata": {},
     "output_type": "execute_result"
    }
   ],
   "source": [
    "c[-2:-6:-1]"
   ]
  },
  {
   "cell_type": "code",
   "execution_count": 100,
   "id": "d209af79-d30d-4274-9185-41dec6b7b539",
   "metadata": {},
   "outputs": [
    {
     "data": {
      "text/plain": [
       "[175, 78, False, True]"
      ]
     },
     "execution_count": 100,
     "metadata": {},
     "output_type": "execute_result"
    }
   ],
   "source": [
    "c[6:2:-1]\n"
   ]
  },
  {
   "cell_type": "markdown",
   "id": "8cd6a0c3-50ec-41de-a353-4addd63ce69e",
   "metadata": {},
   "source": [
    "# list  methods"
   ]
  },
  {
   "cell_type": "code",
   "execution_count": null,
   "id": "199d8446-d385-4e8f-90d6-2627af9cfc75",
   "metadata": {},
   "outputs": [],
   "source": [
    "append\n",
    "insert \n",
    "extend\n",
    "pop\n",
    "remove\n",
    "clear\n",
    "count\n"
   ]
  },
  {
   "cell_type": "code",
   "execution_count": 62,
   "id": "8eb4d859-9384-419d-a021-4c8b99738072",
   "metadata": {},
   "outputs": [
    {
     "data": {
      "text/plain": [
       "[203, 'Hyderabad', 45, True, 'Mumbai', 78, 175, 34.9]"
      ]
     },
     "execution_count": 62,
     "metadata": {},
     "output_type": "execute_result"
    }
   ],
   "source": [
    "m"
   ]
  },
  {
   "cell_type": "code",
   "execution_count": 63,
   "id": "570844d1-d250-434d-b179-843f4c5e4813",
   "metadata": {},
   "outputs": [],
   "source": [
    "m.append(72)"
   ]
  },
  {
   "cell_type": "code",
   "execution_count": 64,
   "id": "82add638-d6ff-4182-a57d-bd7b6e2fbce3",
   "metadata": {},
   "outputs": [
    {
     "data": {
      "text/plain": [
       "[203, 'Hyderabad', 45, True, 'Mumbai', 78, 175, 34.9, 72]"
      ]
     },
     "execution_count": 64,
     "metadata": {},
     "output_type": "execute_result"
    }
   ],
   "source": [
    "m"
   ]
  },
  {
   "cell_type": "code",
   "execution_count": 65,
   "id": "0ec363a6-34f3-4cf9-bcf6-da93b11ba4a2",
   "metadata": {},
   "outputs": [],
   "source": [
    "m.append('India')"
   ]
  },
  {
   "cell_type": "code",
   "execution_count": 66,
   "id": "b1f0fb77-2b51-4006-8613-d927c44ba61d",
   "metadata": {},
   "outputs": [
    {
     "data": {
      "text/plain": [
       "[203, 'Hyderabad', 45, True, 'Mumbai', 78, 175, 34.9, 72, 'India']"
      ]
     },
     "execution_count": 66,
     "metadata": {},
     "output_type": "execute_result"
    }
   ],
   "source": [
    "m"
   ]
  },
  {
   "cell_type": "code",
   "execution_count": 67,
   "id": "a776b0fe-8b36-4b64-bd14-3974774f3253",
   "metadata": {},
   "outputs": [],
   "source": [
    "m.append(45)"
   ]
  },
  {
   "cell_type": "code",
   "execution_count": 69,
   "id": "c1856467-018b-49a0-a599-8385cd6781c1",
   "metadata": {},
   "outputs": [
    {
     "data": {
      "text/plain": [
       "[203, 'Hyderabad', 45, True, 'Mumbai', 78, 175, 34.9, 72, 'India', 45]"
      ]
     },
     "execution_count": 69,
     "metadata": {},
     "output_type": "execute_result"
    }
   ],
   "source": [
    "m\n"
   ]
  },
  {
   "cell_type": "code",
   "execution_count": 70,
   "id": "5c118b87-2d58-40ed-aa14-0fd1446be9b9",
   "metadata": {},
   "outputs": [],
   "source": [
    "m.insert(2,70)"
   ]
  },
  {
   "cell_type": "code",
   "execution_count": 71,
   "id": "f49c0808-14da-48ef-81b9-6b0d943cee12",
   "metadata": {},
   "outputs": [
    {
     "data": {
      "text/plain": [
       "[203, 'Hyderabad', 70, 45, True, 'Mumbai', 78, 175, 34.9, 72, 'India', 45]"
      ]
     },
     "execution_count": 71,
     "metadata": {},
     "output_type": "execute_result"
    }
   ],
   "source": [
    "m"
   ]
  },
  {
   "cell_type": "code",
   "execution_count": 73,
   "id": "8628714b-fc40-442c-9e34-017f9aa9ae96",
   "metadata": {},
   "outputs": [],
   "source": [
    "m.insert(8,'Delhi')"
   ]
  },
  {
   "cell_type": "code",
   "execution_count": 75,
   "id": "ee21da18-fd1e-4455-aa95-e28b11423b03",
   "metadata": {},
   "outputs": [
    {
     "name": "stdout",
     "output_type": "stream",
     "text": [
      "[203, 'Hyderabad', 70, 45, True, 'Mumbai', 78, 175, 'Delhi', 34.9, 72, 'India', 45]\n"
     ]
    }
   ],
   "source": [
    "print(m)"
   ]
  },
  {
   "cell_type": "code",
   "execution_count": null,
   "id": "4d5ff5da-76d0-43b0-b66a-5d7396a29d12",
   "metadata": {},
   "outputs": [],
   "source": []
  },
  {
   "cell_type": "code",
   "execution_count": 76,
   "id": "a239d2f8-b2bd-4c9a-98d1-915c5b2497e2",
   "metadata": {},
   "outputs": [
    {
     "data": {
      "text/plain": [
       "34.9"
      ]
     },
     "execution_count": 76,
     "metadata": {},
     "output_type": "execute_result"
    }
   ],
   "source": [
    "m.pop(9)"
   ]
  },
  {
   "cell_type": "code",
   "execution_count": 78,
   "id": "3e80d337-6670-44b7-a309-8f5303f3163a",
   "metadata": {},
   "outputs": [
    {
     "data": {
      "text/plain": [
       "[203, 'Hyderabad', 70, 45, True, 'Mumbai', 78, 175, 'Delhi', 72, 'India', 45]"
      ]
     },
     "execution_count": 78,
     "metadata": {},
     "output_type": "execute_result"
    }
   ],
   "source": [
    "m"
   ]
  },
  {
   "cell_type": "code",
   "execution_count": 79,
   "id": "652445a6-c914-4c8e-86eb-cb12b96ec40a",
   "metadata": {},
   "outputs": [
    {
     "data": {
      "text/plain": [
       "203"
      ]
     },
     "execution_count": 79,
     "metadata": {},
     "output_type": "execute_result"
    }
   ],
   "source": [
    "m.pop(0)"
   ]
  },
  {
   "cell_type": "code",
   "execution_count": 80,
   "id": "f757c880-010b-42a5-bdce-023b6f7fe682",
   "metadata": {},
   "outputs": [
    {
     "data": {
      "text/plain": [
       "['Hyderabad', 70, 45, True, 'Mumbai', 78, 175, 'Delhi', 72, 'India', 45]"
      ]
     },
     "execution_count": 80,
     "metadata": {},
     "output_type": "execute_result"
    }
   ],
   "source": [
    "m"
   ]
  },
  {
   "cell_type": "code",
   "execution_count": 81,
   "id": "72c6f7a0-aab0-4d33-a576-c68a4dc54393",
   "metadata": {},
   "outputs": [],
   "source": [
    "m.remove('Delhi')"
   ]
  },
  {
   "cell_type": "code",
   "execution_count": 82,
   "id": "637bd05c-f83d-4fd7-8bf9-c0262e1d90cd",
   "metadata": {},
   "outputs": [
    {
     "data": {
      "text/plain": [
       "['Hyderabad', 70, 45, True, 'Mumbai', 78, 175, 72, 'India', 45]"
      ]
     },
     "execution_count": 82,
     "metadata": {},
     "output_type": "execute_result"
    }
   ],
   "source": [
    "m"
   ]
  },
  {
   "cell_type": "code",
   "execution_count": 47,
   "id": "ff73b5ae-0c34-4200-8a22-e222cf8fcc25",
   "metadata": {},
   "outputs": [
    {
     "data": {
      "text/plain": [
       "list"
      ]
     },
     "execution_count": 47,
     "metadata": {},
     "output_type": "execute_result"
    }
   ],
   "source": [
    "type(c)"
   ]
  },
  {
   "cell_type": "code",
   "execution_count": 83,
   "id": "f9eed4ab-485a-4785-93df-587f6c2e4714",
   "metadata": {},
   "outputs": [
    {
     "data": {
      "text/plain": [
       "['Hyderabad', 70, 45, True, 'Mumbai', 78, 175, 72, 'India', 45]"
      ]
     },
     "execution_count": 83,
     "metadata": {},
     "output_type": "execute_result"
    }
   ],
   "source": [
    "m"
   ]
  },
  {
   "cell_type": "code",
   "execution_count": 86,
   "id": "384f8ea7-86c8-40ed-b5fb-54bdcd01a918",
   "metadata": {},
   "outputs": [
    {
     "data": {
      "text/plain": [
       "0"
      ]
     },
     "execution_count": 86,
     "metadata": {},
     "output_type": "execute_result"
    }
   ],
   "source": [
    "m.count(60)"
   ]
  },
  {
   "cell_type": "code",
   "execution_count": 87,
   "id": "9f139bf4-5d2f-438a-8c31-074ece40bb25",
   "metadata": {},
   "outputs": [
    {
     "data": {
      "text/plain": [
       "['Hyderabad', 70, 45, True, 'Mumbai', 78, 175, 72, 'India', 45]"
      ]
     },
     "execution_count": 87,
     "metadata": {},
     "output_type": "execute_result"
    }
   ],
   "source": [
    "m"
   ]
  },
  {
   "cell_type": "code",
   "execution_count": 88,
   "id": "470b55bb-512c-4760-98a7-9750b9e9cdd9",
   "metadata": {},
   "outputs": [
    {
     "ename": "TypeError",
     "evalue": "list.append() takes exactly one argument (2 given)",
     "output_type": "error",
     "traceback": [
      "\u001b[1;31m---------------------------------------------------------------------------\u001b[0m",
      "\u001b[1;31mTypeError\u001b[0m                                 Traceback (most recent call last)",
      "Cell \u001b[1;32mIn[88], line 1\u001b[0m\n\u001b[1;32m----> 1\u001b[0m m\u001b[38;5;241m.\u001b[39mappend(\u001b[38;5;241m50\u001b[39m,\u001b[38;5;241m70\u001b[39m)\n",
      "\u001b[1;31mTypeError\u001b[0m: list.append() takes exactly one argument (2 given)"
     ]
    }
   ],
   "source": [
    "m.append(50,70)"
   ]
  },
  {
   "cell_type": "code",
   "execution_count": 89,
   "id": "d2663cfd-5031-4dc3-ab0c-5738db092b37",
   "metadata": {},
   "outputs": [],
   "source": [
    "m.extend([50,70])"
   ]
  },
  {
   "cell_type": "code",
   "execution_count": 90,
   "id": "97a44d81-ad32-448d-a5e1-35e7d24df155",
   "metadata": {},
   "outputs": [
    {
     "data": {
      "text/plain": [
       "['Hyderabad', 70, 45, True, 'Mumbai', 78, 175, 72, 'India', 45, 50, 70]"
      ]
     },
     "execution_count": 90,
     "metadata": {},
     "output_type": "execute_result"
    }
   ],
   "source": [
    "m"
   ]
  },
  {
   "cell_type": "code",
   "execution_count": null,
   "id": "2e192d66-2d6e-4fed-b15b-ce5eb2813002",
   "metadata": {},
   "outputs": [],
   "source": []
  },
  {
   "cell_type": "code",
   "execution_count": 91,
   "id": "2a822189-1447-4f7d-a398-f49ed36e3a52",
   "metadata": {},
   "outputs": [
    {
     "data": {
      "text/plain": [
       "['Hyderabad', 70, 45, True, 'Mumbai', 78, 175, 72, 'India', 45, 50, 70]"
      ]
     },
     "execution_count": 91,
     "metadata": {},
     "output_type": "execute_result"
    }
   ],
   "source": [
    "m"
   ]
  },
  {
   "cell_type": "code",
   "execution_count": 92,
   "id": "8ae64ad1-96dc-404a-aea5-845ce4f5b7dd",
   "metadata": {},
   "outputs": [
    {
     "data": {
      "text/plain": [
       "[6, 3, 8, 9, 4]"
      ]
     },
     "execution_count": 92,
     "metadata": {},
     "output_type": "execute_result"
    }
   ],
   "source": [
    "d=[6,3,8,9,4]\n",
    "d"
   ]
  },
  {
   "cell_type": "code",
   "execution_count": 93,
   "id": "b837afb0-716f-4c6b-b2c1-ec6d8451df05",
   "metadata": {},
   "outputs": [],
   "source": [
    "m.extend(d)"
   ]
  },
  {
   "cell_type": "code",
   "execution_count": 95,
   "id": "55e17a70-0021-48f8-bc30-4240edfa5691",
   "metadata": {},
   "outputs": [
    {
     "name": "stdout",
     "output_type": "stream",
     "text": [
      "['Hyderabad', 70, 45, True, 'Mumbai', 78, 175, 72, 'India', 45, 50, 70, 6, 3, 8, 9, 4]\n"
     ]
    }
   ],
   "source": [
    "print(m)"
   ]
  },
  {
   "cell_type": "code",
   "execution_count": 96,
   "id": "53c13c22-612a-4a28-b144-79249544f805",
   "metadata": {},
   "outputs": [
    {
     "data": {
      "text/plain": [
       "[6, 3, 8, 9, 4]"
      ]
     },
     "execution_count": 96,
     "metadata": {},
     "output_type": "execute_result"
    }
   ],
   "source": [
    "d"
   ]
  },
  {
   "cell_type": "code",
   "execution_count": 3,
   "id": "09523b6a-0fce-4e76-bbd6-ed08b7dfeac2",
   "metadata": {},
   "outputs": [
    {
     "data": {
      "text/plain": [
       "[5, 7, 9, 3]"
      ]
     },
     "execution_count": 3,
     "metadata": {},
     "output_type": "execute_result"
    }
   ],
   "source": [
    "a=[5,7,9,3]\n",
    "a"
   ]
  },
  {
   "cell_type": "code",
   "execution_count": 97,
   "id": "be970d8c-3797-428d-9134-a1900982f894",
   "metadata": {},
   "outputs": [
    {
     "data": {
      "text/plain": [
       "[6, 3, 8, 9, 4]"
      ]
     },
     "execution_count": 97,
     "metadata": {},
     "output_type": "execute_result"
    }
   ],
   "source": [
    "d"
   ]
  },
  {
   "cell_type": "code",
   "execution_count": 98,
   "id": "38999bd7-25f3-4339-9e99-f5932e6f4433",
   "metadata": {},
   "outputs": [
    {
     "data": {
      "text/plain": [
       "[23, 34, 45, 56, 67]"
      ]
     },
     "execution_count": 98,
     "metadata": {},
     "output_type": "execute_result"
    }
   ],
   "source": [
    "a"
   ]
  },
  {
   "cell_type": "code",
   "execution_count": 99,
   "id": "6811d992-7f8b-472f-a74a-497f86028793",
   "metadata": {},
   "outputs": [
    {
     "data": {
      "text/plain": [
       "[6, 3, 8, 9, 4, 23, 34, 45, 56, 67]"
      ]
     },
     "execution_count": 99,
     "metadata": {},
     "output_type": "execute_result"
    }
   ],
   "source": [
    "d + a"
   ]
  },
  {
   "cell_type": "code",
   "execution_count": 100,
   "id": "87aca8aa-f42c-435f-bfe1-59a8bf37cd94",
   "metadata": {},
   "outputs": [
    {
     "data": {
      "text/plain": [
       "[6, 3, 8, 9, 4]"
      ]
     },
     "execution_count": 100,
     "metadata": {},
     "output_type": "execute_result"
    }
   ],
   "source": [
    "d"
   ]
  },
  {
   "cell_type": "code",
   "execution_count": 101,
   "id": "912c8b87-1b0c-42dc-8607-d7665e005eb0",
   "metadata": {},
   "outputs": [
    {
     "data": {
      "text/plain": [
       "[23, 34, 45, 56, 67]"
      ]
     },
     "execution_count": 101,
     "metadata": {},
     "output_type": "execute_result"
    }
   ],
   "source": [
    "a"
   ]
  },
  {
   "cell_type": "code",
   "execution_count": 7,
   "id": "1fbd1a34-2c40-40d9-961e-657e6c6ab0db",
   "metadata": {},
   "outputs": [
    {
     "data": {
      "text/plain": [
       "[5, 7, 9, 3]"
      ]
     },
     "execution_count": 7,
     "metadata": {},
     "output_type": "execute_result"
    }
   ],
   "source": [
    "a"
   ]
  },
  {
   "cell_type": "code",
   "execution_count": 102,
   "id": "7d801d5f-4945-41f0-ae9d-96e2b0857603",
   "metadata": {},
   "outputs": [],
   "source": [
    "d.extend(a)"
   ]
  },
  {
   "cell_type": "code",
   "execution_count": 103,
   "id": "bf985609-e111-4a2d-b908-7bd6c475536a",
   "metadata": {},
   "outputs": [
    {
     "data": {
      "text/plain": [
       "[6, 3, 8, 9, 4, 23, 34, 45, 56, 67]"
      ]
     },
     "execution_count": 103,
     "metadata": {},
     "output_type": "execute_result"
    }
   ],
   "source": [
    "d"
   ]
  },
  {
   "cell_type": "code",
   "execution_count": 104,
   "id": "19d3a363-4a3d-4ce9-a7d2-71c427485992",
   "metadata": {},
   "outputs": [
    {
     "data": {
      "text/plain": [
       "[23, 34, 45, 56, 67]"
      ]
     },
     "execution_count": 104,
     "metadata": {},
     "output_type": "execute_result"
    }
   ],
   "source": [
    "a"
   ]
  },
  {
   "cell_type": "code",
   "execution_count": 13,
   "id": "4709c3b4-56bf-4c5e-a4f8-08274067ebc9",
   "metadata": {},
   "outputs": [],
   "source": [
    "c=[700,600,500,300]"
   ]
  },
  {
   "cell_type": "code",
   "execution_count": 14,
   "id": "ad2fc0d6-1423-4575-bfd3-e12185c88ccf",
   "metadata": {},
   "outputs": [
    {
     "data": {
      "text/plain": [
       "[700, 600, 500, 300]"
      ]
     },
     "execution_count": 14,
     "metadata": {},
     "output_type": "execute_result"
    }
   ],
   "source": [
    "c"
   ]
  },
  {
   "cell_type": "code",
   "execution_count": 15,
   "id": "afc36cdd-b3f2-4378-9789-28b093a12321",
   "metadata": {},
   "outputs": [
    {
     "data": {
      "text/plain": [
       "[5, 7, 9, 3]"
      ]
     },
     "execution_count": 15,
     "metadata": {},
     "output_type": "execute_result"
    }
   ],
   "source": [
    "a"
   ]
  },
  {
   "cell_type": "code",
   "execution_count": 16,
   "id": "1564cd72-91d1-4e78-98ba-eac82f23e3b8",
   "metadata": {},
   "outputs": [
    {
     "data": {
      "text/plain": [
       "[700, 600, 500, 300, 5, 7, 9, 3]"
      ]
     },
     "execution_count": 16,
     "metadata": {},
     "output_type": "execute_result"
    }
   ],
   "source": [
    "c + a"
   ]
  },
  {
   "cell_type": "code",
   "execution_count": 17,
   "id": "fe88cb68-7285-441e-b931-2cbb36a61467",
   "metadata": {},
   "outputs": [
    {
     "data": {
      "text/plain": [
       "[700, 600, 500, 300]"
      ]
     },
     "execution_count": 17,
     "metadata": {},
     "output_type": "execute_result"
    }
   ],
   "source": [
    "c"
   ]
  },
  {
   "cell_type": "code",
   "execution_count": 18,
   "id": "da50e88e-4d80-4328-8d10-74c191c0426a",
   "metadata": {},
   "outputs": [
    {
     "data": {
      "text/plain": [
       "[5, 7, 9, 3]"
      ]
     },
     "execution_count": 18,
     "metadata": {},
     "output_type": "execute_result"
    }
   ],
   "source": [
    "a"
   ]
  },
  {
   "cell_type": "code",
   "execution_count": null,
   "id": "fd8db0f0-8974-42cd-abbc-d0bd5ac63b1e",
   "metadata": {},
   "outputs": [],
   "source": []
  },
  {
   "cell_type": "code",
   "execution_count": 2,
   "id": "035ba706-1970-4389-8502-abde1b32c8a9",
   "metadata": {},
   "outputs": [
    {
     "data": {
      "text/plain": [
       "(90, 70, 50, 30, 20)"
      ]
     },
     "execution_count": 2,
     "metadata": {},
     "output_type": "execute_result"
    }
   ],
   "source": [
    "h= (90,70,50,30,20)\n",
    "h"
   ]
  },
  {
   "cell_type": "code",
   "execution_count": 5,
   "id": "71555a9e-f6f7-43e4-92e9-424222f8023c",
   "metadata": {},
   "outputs": [
    {
     "data": {
      "text/plain": [
       "1"
      ]
     },
     "execution_count": 5,
     "metadata": {},
     "output_type": "execute_result"
    }
   ],
   "source": [
    "h.count(90)"
   ]
  },
  {
   "cell_type": "code",
   "execution_count": 6,
   "id": "6f0badfa-2259-4af4-bf3c-857942d6a32d",
   "metadata": {},
   "outputs": [
    {
     "data": {
      "text/plain": [
       "3"
      ]
     },
     "execution_count": 6,
     "metadata": {},
     "output_type": "execute_result"
    }
   ],
   "source": [
    "h.index(30)"
   ]
  },
  {
   "cell_type": "code",
   "execution_count": null,
   "id": "40af9c64-92c5-465b-8e75-8acf1ef9d093",
   "metadata": {},
   "outputs": [],
   "source": []
  }
 ],
 "metadata": {
  "kernelspec": {
   "display_name": "Python 3 (ipykernel)",
   "language": "python",
   "name": "python3"
  },
  "language_info": {
   "codemirror_mode": {
    "name": "ipython",
    "version": 3
   },
   "file_extension": ".py",
   "mimetype": "text/x-python",
   "name": "python",
   "nbconvert_exporter": "python",
   "pygments_lexer": "ipython3",
   "version": "3.12.7"
  }
 },
 "nbformat": 4,
 "nbformat_minor": 5
}
